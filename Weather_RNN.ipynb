{
 "cells": [
  {
   "cell_type": "code",
   "execution_count": 15,
   "id": "unlimited-knife",
   "metadata": {},
   "outputs": [
    {
     "name": "stdout",
     "output_type": "stream",
     "text": [
      "Shape of data (2009, 24)\n"
     ]
    },
    {
     "data": {
      "text/html": [
       "<div>\n",
       "<style scoped>\n",
       "    .dataframe tbody tr th:only-of-type {\n",
       "        vertical-align: middle;\n",
       "    }\n",
       "\n",
       "    .dataframe tbody tr th {\n",
       "        vertical-align: top;\n",
       "    }\n",
       "\n",
       "    .dataframe thead th {\n",
       "        text-align: right;\n",
       "    }\n",
       "</style>\n",
       "<table border=\"1\" class=\"dataframe\">\n",
       "  <thead>\n",
       "    <tr style=\"text-align: right;\">\n",
       "      <th></th>\n",
       "      <th>maxtempC</th>\n",
       "      <th>mintempC</th>\n",
       "      <th>totalSnow_cm</th>\n",
       "      <th>sunHour</th>\n",
       "      <th>uvIndex</th>\n",
       "      <th>moon_illumination</th>\n",
       "      <th>moonrise</th>\n",
       "      <th>moonset</th>\n",
       "      <th>sunrise</th>\n",
       "      <th>sunset</th>\n",
       "      <th>...</th>\n",
       "      <th>WindGustKmph</th>\n",
       "      <th>cloudcover</th>\n",
       "      <th>humidity</th>\n",
       "      <th>precipMM</th>\n",
       "      <th>pressure</th>\n",
       "      <th>tempC</th>\n",
       "      <th>visibility</th>\n",
       "      <th>winddirDegree</th>\n",
       "      <th>windspeedKmph</th>\n",
       "      <th>location</th>\n",
       "    </tr>\n",
       "    <tr>\n",
       "      <th>date_time</th>\n",
       "      <th></th>\n",
       "      <th></th>\n",
       "      <th></th>\n",
       "      <th></th>\n",
       "      <th></th>\n",
       "      <th></th>\n",
       "      <th></th>\n",
       "      <th></th>\n",
       "      <th></th>\n",
       "      <th></th>\n",
       "      <th></th>\n",
       "      <th></th>\n",
       "      <th></th>\n",
       "      <th></th>\n",
       "      <th></th>\n",
       "      <th></th>\n",
       "      <th></th>\n",
       "      <th></th>\n",
       "      <th></th>\n",
       "      <th></th>\n",
       "      <th></th>\n",
       "    </tr>\n",
       "  </thead>\n",
       "  <tbody>\n",
       "    <tr>\n",
       "      <th>2015-01-01</th>\n",
       "      <td>24</td>\n",
       "      <td>11</td>\n",
       "      <td>0.0</td>\n",
       "      <td>8.7</td>\n",
       "      <td>5</td>\n",
       "      <td>72</td>\n",
       "      <td>02:39 PM</td>\n",
       "      <td>03:24 AM</td>\n",
       "      <td>07:14 AM</td>\n",
       "      <td>05:36 PM</td>\n",
       "      <td>...</td>\n",
       "      <td>10</td>\n",
       "      <td>14</td>\n",
       "      <td>37</td>\n",
       "      <td>0.0</td>\n",
       "      <td>1017</td>\n",
       "      <td>24</td>\n",
       "      <td>10</td>\n",
       "      <td>63</td>\n",
       "      <td>6</td>\n",
       "      <td>India</td>\n",
       "    </tr>\n",
       "    <tr>\n",
       "      <th>2015-01-02</th>\n",
       "      <td>18</td>\n",
       "      <td>11</td>\n",
       "      <td>0.0</td>\n",
       "      <td>5.5</td>\n",
       "      <td>3</td>\n",
       "      <td>80</td>\n",
       "      <td>03:27 PM</td>\n",
       "      <td>04:21 AM</td>\n",
       "      <td>07:14 AM</td>\n",
       "      <td>05:36 PM</td>\n",
       "      <td>...</td>\n",
       "      <td>15</td>\n",
       "      <td>60</td>\n",
       "      <td>62</td>\n",
       "      <td>1.7</td>\n",
       "      <td>1019</td>\n",
       "      <td>18</td>\n",
       "      <td>8</td>\n",
       "      <td>96</td>\n",
       "      <td>10</td>\n",
       "      <td>India</td>\n",
       "    </tr>\n",
       "    <tr>\n",
       "      <th>2015-01-03</th>\n",
       "      <td>19</td>\n",
       "      <td>13</td>\n",
       "      <td>0.0</td>\n",
       "      <td>8.7</td>\n",
       "      <td>5</td>\n",
       "      <td>87</td>\n",
       "      <td>04:16 PM</td>\n",
       "      <td>05:16 AM</td>\n",
       "      <td>07:15 AM</td>\n",
       "      <td>05:37 PM</td>\n",
       "      <td>...</td>\n",
       "      <td>8</td>\n",
       "      <td>38</td>\n",
       "      <td>82</td>\n",
       "      <td>0.0</td>\n",
       "      <td>1018</td>\n",
       "      <td>19</td>\n",
       "      <td>10</td>\n",
       "      <td>113</td>\n",
       "      <td>5</td>\n",
       "      <td>India</td>\n",
       "    </tr>\n",
       "    <tr>\n",
       "      <th>2015-01-04</th>\n",
       "      <td>23</td>\n",
       "      <td>13</td>\n",
       "      <td>0.0</td>\n",
       "      <td>8.7</td>\n",
       "      <td>5</td>\n",
       "      <td>94</td>\n",
       "      <td>05:08 PM</td>\n",
       "      <td>06:08 AM</td>\n",
       "      <td>07:15 AM</td>\n",
       "      <td>05:38 PM</td>\n",
       "      <td>...</td>\n",
       "      <td>18</td>\n",
       "      <td>1</td>\n",
       "      <td>60</td>\n",
       "      <td>0.0</td>\n",
       "      <td>1019</td>\n",
       "      <td>23</td>\n",
       "      <td>10</td>\n",
       "      <td>322</td>\n",
       "      <td>12</td>\n",
       "      <td>India</td>\n",
       "    </tr>\n",
       "    <tr>\n",
       "      <th>2015-01-05</th>\n",
       "      <td>21</td>\n",
       "      <td>10</td>\n",
       "      <td>0.0</td>\n",
       "      <td>8.7</td>\n",
       "      <td>5</td>\n",
       "      <td>100</td>\n",
       "      <td>06:01 PM</td>\n",
       "      <td>06:57 AM</td>\n",
       "      <td>07:15 AM</td>\n",
       "      <td>05:38 PM</td>\n",
       "      <td>...</td>\n",
       "      <td>23</td>\n",
       "      <td>0</td>\n",
       "      <td>48</td>\n",
       "      <td>0.0</td>\n",
       "      <td>1016</td>\n",
       "      <td>21</td>\n",
       "      <td>10</td>\n",
       "      <td>296</td>\n",
       "      <td>16</td>\n",
       "      <td>India</td>\n",
       "    </tr>\n",
       "    <tr>\n",
       "      <th>...</th>\n",
       "      <td>...</td>\n",
       "      <td>...</td>\n",
       "      <td>...</td>\n",
       "      <td>...</td>\n",
       "      <td>...</td>\n",
       "      <td>...</td>\n",
       "      <td>...</td>\n",
       "      <td>...</td>\n",
       "      <td>...</td>\n",
       "      <td>...</td>\n",
       "      <td>...</td>\n",
       "      <td>...</td>\n",
       "      <td>...</td>\n",
       "      <td>...</td>\n",
       "      <td>...</td>\n",
       "      <td>...</td>\n",
       "      <td>...</td>\n",
       "      <td>...</td>\n",
       "      <td>...</td>\n",
       "      <td>...</td>\n",
       "      <td>...</td>\n",
       "    </tr>\n",
       "    <tr>\n",
       "      <th>2020-06-27</th>\n",
       "      <td>43</td>\n",
       "      <td>33</td>\n",
       "      <td>0.0</td>\n",
       "      <td>14.0</td>\n",
       "      <td>8</td>\n",
       "      <td>44</td>\n",
       "      <td>11:18 AM</td>\n",
       "      <td>No moonset</td>\n",
       "      <td>05:26 AM</td>\n",
       "      <td>07:23 PM</td>\n",
       "      <td>...</td>\n",
       "      <td>19</td>\n",
       "      <td>44</td>\n",
       "      <td>31</td>\n",
       "      <td>0.3</td>\n",
       "      <td>994</td>\n",
       "      <td>43</td>\n",
       "      <td>10</td>\n",
       "      <td>235</td>\n",
       "      <td>16</td>\n",
       "      <td>India</td>\n",
       "    </tr>\n",
       "    <tr>\n",
       "      <th>2020-06-28</th>\n",
       "      <td>45</td>\n",
       "      <td>34</td>\n",
       "      <td>0.0</td>\n",
       "      <td>12.2</td>\n",
       "      <td>9</td>\n",
       "      <td>52</td>\n",
       "      <td>12:20 PM</td>\n",
       "      <td>12:11 AM</td>\n",
       "      <td>05:26 AM</td>\n",
       "      <td>07:23 PM</td>\n",
       "      <td>...</td>\n",
       "      <td>19</td>\n",
       "      <td>30</td>\n",
       "      <td>32</td>\n",
       "      <td>0.5</td>\n",
       "      <td>994</td>\n",
       "      <td>45</td>\n",
       "      <td>10</td>\n",
       "      <td>244</td>\n",
       "      <td>16</td>\n",
       "      <td>India</td>\n",
       "    </tr>\n",
       "    <tr>\n",
       "      <th>2020-06-29</th>\n",
       "      <td>43</td>\n",
       "      <td>38</td>\n",
       "      <td>0.0</td>\n",
       "      <td>13.3</td>\n",
       "      <td>9</td>\n",
       "      <td>59</td>\n",
       "      <td>01:24 PM</td>\n",
       "      <td>12:48 AM</td>\n",
       "      <td>05:27 AM</td>\n",
       "      <td>07:23 PM</td>\n",
       "      <td>...</td>\n",
       "      <td>15</td>\n",
       "      <td>34</td>\n",
       "      <td>31</td>\n",
       "      <td>2.0</td>\n",
       "      <td>995</td>\n",
       "      <td>43</td>\n",
       "      <td>10</td>\n",
       "      <td>245</td>\n",
       "      <td>13</td>\n",
       "      <td>India</td>\n",
       "    </tr>\n",
       "    <tr>\n",
       "      <th>2020-06-30</th>\n",
       "      <td>46</td>\n",
       "      <td>30</td>\n",
       "      <td>0.0</td>\n",
       "      <td>14.0</td>\n",
       "      <td>10</td>\n",
       "      <td>67</td>\n",
       "      <td>02:28 PM</td>\n",
       "      <td>01:25 AM</td>\n",
       "      <td>05:27 AM</td>\n",
       "      <td>07:23 PM</td>\n",
       "      <td>...</td>\n",
       "      <td>9</td>\n",
       "      <td>8</td>\n",
       "      <td>28</td>\n",
       "      <td>0.0</td>\n",
       "      <td>996</td>\n",
       "      <td>46</td>\n",
       "      <td>10</td>\n",
       "      <td>154</td>\n",
       "      <td>8</td>\n",
       "      <td>India</td>\n",
       "    </tr>\n",
       "    <tr>\n",
       "      <th>2020-07-01</th>\n",
       "      <td>47</td>\n",
       "      <td>36</td>\n",
       "      <td>0.0</td>\n",
       "      <td>14.0</td>\n",
       "      <td>10</td>\n",
       "      <td>72</td>\n",
       "      <td>03:33 PM</td>\n",
       "      <td>02:03 AM</td>\n",
       "      <td>05:27 AM</td>\n",
       "      <td>07:23 PM</td>\n",
       "      <td>...</td>\n",
       "      <td>14</td>\n",
       "      <td>6</td>\n",
       "      <td>28</td>\n",
       "      <td>0.0</td>\n",
       "      <td>995</td>\n",
       "      <td>47</td>\n",
       "      <td>10</td>\n",
       "      <td>106</td>\n",
       "      <td>12</td>\n",
       "      <td>India</td>\n",
       "    </tr>\n",
       "  </tbody>\n",
       "</table>\n",
       "<p>2009 rows × 24 columns</p>\n",
       "</div>"
      ],
      "text/plain": [
       "            maxtempC  mintempC  totalSnow_cm  sunHour  uvIndex  \\\n",
       "date_time                                                        \n",
       "2015-01-01        24        11           0.0      8.7        5   \n",
       "2015-01-02        18        11           0.0      5.5        3   \n",
       "2015-01-03        19        13           0.0      8.7        5   \n",
       "2015-01-04        23        13           0.0      8.7        5   \n",
       "2015-01-05        21        10           0.0      8.7        5   \n",
       "...              ...       ...           ...      ...      ...   \n",
       "2020-06-27        43        33           0.0     14.0        8   \n",
       "2020-06-28        45        34           0.0     12.2        9   \n",
       "2020-06-29        43        38           0.0     13.3        9   \n",
       "2020-06-30        46        30           0.0     14.0       10   \n",
       "2020-07-01        47        36           0.0     14.0       10   \n",
       "\n",
       "            moon_illumination  moonrise     moonset   sunrise    sunset  ...  \\\n",
       "date_time                                                                ...   \n",
       "2015-01-01                 72  02:39 PM    03:24 AM  07:14 AM  05:36 PM  ...   \n",
       "2015-01-02                 80  03:27 PM    04:21 AM  07:14 AM  05:36 PM  ...   \n",
       "2015-01-03                 87  04:16 PM    05:16 AM  07:15 AM  05:37 PM  ...   \n",
       "2015-01-04                 94  05:08 PM    06:08 AM  07:15 AM  05:38 PM  ...   \n",
       "2015-01-05                100  06:01 PM    06:57 AM  07:15 AM  05:38 PM  ...   \n",
       "...                       ...       ...         ...       ...       ...  ...   \n",
       "2020-06-27                 44  11:18 AM  No moonset  05:26 AM  07:23 PM  ...   \n",
       "2020-06-28                 52  12:20 PM    12:11 AM  05:26 AM  07:23 PM  ...   \n",
       "2020-06-29                 59  01:24 PM    12:48 AM  05:27 AM  07:23 PM  ...   \n",
       "2020-06-30                 67  02:28 PM    01:25 AM  05:27 AM  07:23 PM  ...   \n",
       "2020-07-01                 72  03:33 PM    02:03 AM  05:27 AM  07:23 PM  ...   \n",
       "\n",
       "            WindGustKmph  cloudcover  humidity  precipMM  pressure  tempC  \\\n",
       "date_time                                                                   \n",
       "2015-01-01            10          14        37       0.0      1017     24   \n",
       "2015-01-02            15          60        62       1.7      1019     18   \n",
       "2015-01-03             8          38        82       0.0      1018     19   \n",
       "2015-01-04            18           1        60       0.0      1019     23   \n",
       "2015-01-05            23           0        48       0.0      1016     21   \n",
       "...                  ...         ...       ...       ...       ...    ...   \n",
       "2020-06-27            19          44        31       0.3       994     43   \n",
       "2020-06-28            19          30        32       0.5       994     45   \n",
       "2020-06-29            15          34        31       2.0       995     43   \n",
       "2020-06-30             9           8        28       0.0       996     46   \n",
       "2020-07-01            14           6        28       0.0       995     47   \n",
       "\n",
       "            visibility  winddirDegree  windspeedKmph  location  \n",
       "date_time                                                       \n",
       "2015-01-01          10             63              6     India  \n",
       "2015-01-02           8             96             10     India  \n",
       "2015-01-03          10            113              5     India  \n",
       "2015-01-04          10            322             12     India  \n",
       "2015-01-05          10            296             16     India  \n",
       "...                ...            ...            ...       ...  \n",
       "2020-06-27          10            235             16     India  \n",
       "2020-06-28          10            244             16     India  \n",
       "2020-06-29          10            245             13     India  \n",
       "2020-06-30          10            154              8     India  \n",
       "2020-07-01          10            106             12     India  \n",
       "\n",
       "[2009 rows x 24 columns]"
      ]
     },
     "execution_count": 15,
     "metadata": {},
     "output_type": "execute_result"
    }
   ],
   "source": [
    "import pandas as pd\n",
    "df=pd.read_csv('E:\\\\TE_Project\\\\datacsv\\\\India.csv',index_col='date_time',parse_dates=True)\n",
    "df=df.dropna()\n",
    "print('Shape of data',df.shape)\n",
    "df.head()\n",
    "df"
   ]
  },
  {
   "cell_type": "code",
   "execution_count": 16,
   "id": "perfect-pierce",
   "metadata": {},
   "outputs": [
    {
     "data": {
      "text/html": [
       "<div>\n",
       "<style scoped>\n",
       "    .dataframe tbody tr th:only-of-type {\n",
       "        vertical-align: middle;\n",
       "    }\n",
       "\n",
       "    .dataframe tbody tr th {\n",
       "        vertical-align: top;\n",
       "    }\n",
       "\n",
       "    .dataframe thead th {\n",
       "        text-align: right;\n",
       "    }\n",
       "</style>\n",
       "<table border=\"1\" class=\"dataframe\">\n",
       "  <thead>\n",
       "    <tr style=\"text-align: right;\">\n",
       "      <th></th>\n",
       "      <th>tempC</th>\n",
       "    </tr>\n",
       "    <tr>\n",
       "      <th>date_time</th>\n",
       "      <th></th>\n",
       "    </tr>\n",
       "  </thead>\n",
       "  <tbody>\n",
       "    <tr>\n",
       "      <th>2015-01-01</th>\n",
       "      <td>24</td>\n",
       "    </tr>\n",
       "    <tr>\n",
       "      <th>2015-01-02</th>\n",
       "      <td>18</td>\n",
       "    </tr>\n",
       "    <tr>\n",
       "      <th>2015-01-03</th>\n",
       "      <td>19</td>\n",
       "    </tr>\n",
       "    <tr>\n",
       "      <th>2015-01-04</th>\n",
       "      <td>23</td>\n",
       "    </tr>\n",
       "    <tr>\n",
       "      <th>2015-01-05</th>\n",
       "      <td>21</td>\n",
       "    </tr>\n",
       "    <tr>\n",
       "      <th>...</th>\n",
       "      <td>...</td>\n",
       "    </tr>\n",
       "    <tr>\n",
       "      <th>2020-06-27</th>\n",
       "      <td>43</td>\n",
       "    </tr>\n",
       "    <tr>\n",
       "      <th>2020-06-28</th>\n",
       "      <td>45</td>\n",
       "    </tr>\n",
       "    <tr>\n",
       "      <th>2020-06-29</th>\n",
       "      <td>43</td>\n",
       "    </tr>\n",
       "    <tr>\n",
       "      <th>2020-06-30</th>\n",
       "      <td>46</td>\n",
       "    </tr>\n",
       "    <tr>\n",
       "      <th>2020-07-01</th>\n",
       "      <td>47</td>\n",
       "    </tr>\n",
       "  </tbody>\n",
       "</table>\n",
       "<p>2009 rows × 1 columns</p>\n",
       "</div>"
      ],
      "text/plain": [
       "            tempC\n",
       "date_time        \n",
       "2015-01-01     24\n",
       "2015-01-02     18\n",
       "2015-01-03     19\n",
       "2015-01-04     23\n",
       "2015-01-05     21\n",
       "...           ...\n",
       "2020-06-27     43\n",
       "2020-06-28     45\n",
       "2020-06-29     43\n",
       "2020-06-30     46\n",
       "2020-07-01     47\n",
       "\n",
       "[2009 rows x 1 columns]"
      ]
     },
     "execution_count": 16,
     "metadata": {},
     "output_type": "execute_result"
    }
   ],
   "source": [
    "df=df[['tempC']]\n",
    "df"
   ]
  },
  {
   "cell_type": "code",
   "execution_count": 17,
   "id": "supported-rider",
   "metadata": {},
   "outputs": [
    {
     "data": {
      "text/plain": [
       "<AxesSubplot:xlabel='date_time'>"
      ]
     },
     "execution_count": 17,
     "metadata": {},
     "output_type": "execute_result"
    },
    {
     "data": {
      "image/png": "[encoded data removed]",
      "text/plain": [
       "<Figure size 864x360 with 1 Axes>"
      ]
     },
     "metadata": {
      "needs_background": "light"
     },
     "output_type": "display_data"
    }
   ],
   "source": [
    "df['tempC'].plot(figsize=(12,5))"
   ]
  },
  {
   "cell_type": "code",
   "execution_count": 18,
   "id": "collectible-adjustment",
   "metadata": {},
   "outputs": [],
   "source": [
    "train=df[:-24]\n",
    "test=df[-24:-12]"
   ]
  },
  {
   "cell_type": "code",
   "execution_count": 19,
   "id": "cutting-nowhere",
   "metadata": {},
   "outputs": [
    {
     "data": {
      "text/plain": [
       "MinMaxScaler()"
      ]
     },
     "execution_count": 19,
     "metadata": {},
     "output_type": "execute_result"
    }
   ],
   "source": [
    "from sklearn.preprocessing import MinMaxScaler\n",
    "scaler = MinMaxScaler()\n",
    "scaler.fit(train)\n"
   ]
  },
  {
   "cell_type": "code",
   "execution_count": 20,
   "id": "individual-pacific",
   "metadata": {},
   "outputs": [],
   "source": [
    "scaled_train = scaler.transform(train)\n",
    "scaled_test = scaler.transform(test)"
   ]
  },
  {
   "cell_type": "code",
   "execution_count": 21,
   "id": "approximate-means",
   "metadata": {},
   "outputs": [],
   "source": [
    "from keras.preprocessing.sequence import TimeseriesGenerator\n",
    "n_input = 24\n",
    "n_features = 1\n",
    "generator = TimeseriesGenerator(scaled_train, scaled_train, length=n_input, batch_size=1)"
   ]
  },
  {
   "cell_type": "code",
   "execution_count": 22,
   "id": "brazilian-mexico",
   "metadata": {},
   "outputs": [],
   "source": [
    "#To give an idea of what generator file holds:\n",
    "X,y = generator[0]"
   ]
  },
  {
   "cell_type": "code",
   "execution_count": 23,
   "id": "thermal-sound",
   "metadata": {},
   "outputs": [
    {
     "name": "stdout",
     "output_type": "stream",
     "text": [
      "Given the Array: \n",
      "[0.25       0.08333333 0.11111111 0.22222222 0.16666667 0.25\n",
      " 0.25       0.25       0.19444444 0.19444444 0.25       0.27777778\n",
      " 0.22222222 0.08333333 0.19444444 0.22222222 0.19444444 0.27777778\n",
      " 0.27777778 0.27777778 0.13888889 0.11111111 0.13888889 0.19444444]\n",
      "Predict this y: \n",
      " [[0.19444444]]\n"
     ]
    }
   ],
   "source": [
    "# We can see that the x array gives the list of values that we are going to predict y of:\n",
    "print(f'Given the Array: \\n{X.flatten()}')\n",
    "print(f'Predict this y: \\n {y}')"
   ]
  },
  {
   "cell_type": "code",
   "execution_count": 24,
   "id": "molecular-forge",
   "metadata": {},
   "outputs": [],
   "source": [
    "from keras.models import Sequential\n",
    "from keras.layers import Dense\n",
    "from keras.layers import LSTM"
   ]
  },
  {
   "cell_type": "code",
   "execution_count": 25,
   "id": "fitting-tours",
   "metadata": {},
   "outputs": [
    {
     "name": "stdout",
     "output_type": "stream",
     "text": [
      "Model: \"sequential_1\"\n",
      "_________________________________________________________________\n",
      "Layer (type)                 Output Shape              Param #   \n",
      "=================================================================\n",
      "lstm_1 (LSTM)                (None, 50)                10400     \n",
      "_________________________________________________________________\n",
      "dense_1 (Dense)              (None, 1)                 51        \n",
      "=================================================================\n",
      "Total params: 10,451\n",
      "Trainable params: 10,451\n",
      "Non-trainable params: 0\n",
      "_________________________________________________________________\n"
     ]
    }
   ],
   "source": [
    "# defining the model(note that  I am using a very basic model here, a 2 layer model only):\n",
    "model = Sequential()\n",
    "model.add(LSTM(50, activation='relu', input_shape=(n_input, n_features)))\n",
    "model.add(Dense(1))\n",
    "model.compile(optimizer='adam', loss='mse')\n",
    "\n",
    "model.summary()"
   ]
  },
  {
   "cell_type": "code",
   "execution_count": 26,
   "id": "promising-whale",
   "metadata": {},
   "outputs": [
    {
     "name": "stderr",
     "output_type": "stream",
     "text": [
      "c:\\users\\muskan\\appdata\\local\\programs\\python\\python36\\lib\\site-packages\\tensorflow\\python\\keras\\engine\\training.py:1844: UserWarning: `Model.fit_generator` is deprecated and will be removed in a future version. Please use `Model.fit`, which supports generators.\n",
      "  warnings.warn('`Model.fit_generator` is deprecated and '\n"
     ]
    },
    {
     "name": "stdout",
     "output_type": "stream",
     "text": [
      "Epoch 1/5\n",
      "1961/1961 [==============================] - 25s 12ms/step - loss: 0.0192\n",
      "Epoch 2/5\n",
      "1961/1961 [==============================] - 25s 13ms/step - loss: 0.0049\n",
      "Epoch 3/5\n",
      "1961/1961 [==============================] - 25s 13ms/step - loss: 0.0046\n",
      "Epoch 4/5\n",
      "1961/1961 [==============================] - 25s 13ms/step - loss: 0.0043\n",
      "Epoch 5/5\n",
      "1961/1961 [==============================] - 25s 13ms/step - loss: 0.0044\n"
     ]
    },
    {
     "data": {
      "text/plain": [
       "<tensorflow.python.keras.callbacks.History at 0x1fb9fb53c18>"
      ]
     },
     "execution_count": 26,
     "metadata": {},
     "output_type": "execute_result"
    }
   ],
   "source": [
    "# Fitting the model with the generator object:\n",
    "model.fit_generator(generator,epochs=5)"
   ]
  },
  {
   "cell_type": "code",
   "execution_count": 27,
   "id": "listed-columbia",
   "metadata": {},
   "outputs": [
    {
     "data": {
      "text/plain": [
       "[<matplotlib.lines.Line2D at 0x1fba1dbdd68>]"
      ]
     },
     "execution_count": 27,
     "metadata": {},
     "output_type": "execute_result"
    },
    {
     "data": {
      "image/png": "[encoded data removed]",
      "text/plain": [
       "<Figure size 432x288 with 1 Axes>"
      ]
     },
     "metadata": {
      "needs_background": "light"
     },
     "output_type": "display_data"
    }
   ],
   "source": [
    "import matplotlib.pyplot as plt\n",
    "loss_per_epoch = model.history.history['loss']\n",
    "plt.plot(range(len(loss_per_epoch)),loss_per_epoch)"
   ]
  },
  {
   "cell_type": "code",
   "execution_count": 29,
   "id": "certain-chest",
   "metadata": {},
   "outputs": [],
   "source": [
    "import numpy as np\n",
    "test_predictions = []\n",
    "\n",
    "first_eval_batch = scaled_train[-n_input:]\n",
    "current_batch = first_eval_batch.reshape((1, n_input, n_features))\n",
    "\n",
    "for i in range(len(test)):\n",
    "    \n",
    "    \n",
    "    current_pred = model.predict(current_batch)[0]\n",
    "    \n",
    "    \n",
    "    test_predictions.append(current_pred) \n",
    "    \n",
    "    \n",
    "    current_batch = np.append(current_batch[:,1:,:],[[current_pred]],axis=1)"
   ]
  },
  {
   "cell_type": "code",
   "execution_count": 30,
   "id": "local-calibration",
   "metadata": {},
   "outputs": [],
   "source": [
    "true_predictions = scaler.inverse_transform(test_predictions)"
   ]
  },
  {
   "cell_type": "code",
   "execution_count": 31,
   "id": "instructional-entrance",
   "metadata": {},
   "outputs": [
    {
     "name": "stderr",
     "output_type": "stream",
     "text": [
      "c:\\users\\muskan\\appdata\\local\\programs\\python\\python36\\lib\\site-packages\\ipykernel_launcher.py:1: SettingWithCopyWarning: \n",
      "A value is trying to be set on a copy of a slice from a DataFrame.\n",
      "Try using .loc[row_indexer,col_indexer] = value instead\n",
      "\n",
      "See the caveats in the documentation: https://pandas.pydata.org/pandas-docs/stable/user_guide/indexing.html#returning-a-view-versus-a-copy\n",
      "  \"\"\"Entry point for launching an IPython kernel.\n"
     ]
    }
   ],
   "source": [
    "test['Predictions'] = true_predictions"
   ]
  },
  {
   "cell_type": "code",
   "execution_count": 32,
   "id": "individual-timing",
   "metadata": {},
   "outputs": [
    {
     "data": {
      "text/plain": [
       "[<matplotlib.lines.Line2D at 0x1fba1de2cf8>]"
      ]
     },
     "execution_count": 32,
     "metadata": {},
     "output_type": "execute_result"
    },
    {
     "data": {
      "image/png": "[encoded data removed]",
      "text/plain": [
       "<Figure size 864x576 with 1 Axes>"
      ]
     },
     "metadata": {
      "needs_background": "light"
     },
     "output_type": "display_data"
    }
   ],
   "source": [
    "test.plot(figsize=(12,8))\n",
    "plt.plot(true_predictions)"
   ]
  },
  {
   "cell_type": "code",
   "execution_count": 33,
   "id": "alive-freeze",
   "metadata": {
    "scrolled": false
   },
   "outputs": [
    {
     "name": "stdout",
     "output_type": "stream",
     "text": [
      "RMSE =  8.935529626778845\n",
      "df= 34.50970632155301\n"
     ]
    }
   ],
   "source": [
    "import numpy as np\n",
    "from sklearn.metrics import mean_squared_error\n",
    "RMSE=np.sqrt(mean_squared_error(test['tempC'],test['Predictions']))\n",
    "print('RMSE = ',RMSE)\n",
    "print('df=',df['tempC'].mean())"
   ]
  },
  {
   "cell_type": "code",
   "execution_count": 34,
   "id": "theoretical-circular",
   "metadata": {},
   "outputs": [],
   "source": [
    "scaler.fit(df)\n",
    "scaled_India_AQI=scaler.transform(df)"
   ]
  },
  {
   "cell_type": "code",
   "execution_count": 35,
   "id": "tropical-minimum",
   "metadata": {},
   "outputs": [],
   "source": [
    "generator = TimeseriesGenerator(scaled_India_AQI, scaled_India_AQI, length=n_input, batch_size=1)"
   ]
  },
  {
   "cell_type": "code",
   "execution_count": 36,
   "id": "stupid-analysis",
   "metadata": {},
   "outputs": [
    {
     "name": "stdout",
     "output_type": "stream",
     "text": [
      "Epoch 1/5\n",
      "   8/1985 [..............................] - ETA: 14s - loss: 0.0041"
     ]
    },
    {
     "name": "stderr",
     "output_type": "stream",
     "text": [
      "c:\\users\\muskan\\appdata\\local\\programs\\python\\python36\\lib\\site-packages\\tensorflow\\python\\keras\\engine\\training.py:1844: UserWarning: `Model.fit_generator` is deprecated and will be removed in a future version. Please use `Model.fit`, which supports generators.\n",
      "  warnings.warn('`Model.fit_generator` is deprecated and '\n"
     ]
    },
    {
     "name": "stdout",
     "output_type": "stream",
     "text": [
      "1985/1985 [==============================] - 25s 13ms/step - loss: 0.0041\n",
      "Epoch 2/5\n",
      "1985/1985 [==============================] - 26s 13ms/step - loss: 0.0040\n",
      "Epoch 3/5\n",
      "1985/1985 [==============================] - 26s 13ms/step - loss: 0.0039\n",
      "Epoch 4/5\n",
      "1985/1985 [==============================] - 25s 13ms/step - loss: 0.0039\n",
      "Epoch 5/5\n",
      "1985/1985 [==============================] - 25s 13ms/step - loss: 0.0039\n"
     ]
    },
    {
     "data": {
      "text/plain": [
       "<tensorflow.python.keras.callbacks.History at 0x1fba1f471d0>"
      ]
     },
     "execution_count": 36,
     "metadata": {},
     "output_type": "execute_result"
    }
   ],
   "source": [
    "model.fit_generator(generator,epochs=5)\n"
   ]
  },
  {
   "cell_type": "code",
   "execution_count": 37,
   "id": "differential-onion",
   "metadata": {},
   "outputs": [],
   "source": [
    "test_predictions = []\n",
    "\n",
    "first_eval_batch = scaled_India_AQI[-n_input:]\n",
    "current_batch = first_eval_batch.reshape((1, n_input, n_features))\n",
    "\n",
    "for i in range(len(test)):\n",
    "    \n",
    "    \n",
    "    current_pred = model.predict(current_batch)[0]\n",
    "    \n",
    "    \n",
    "    test_predictions.append(current_pred) \n",
    "    \n",
    "    \n",
    "    current_batch = np.append(current_batch[:,1:,:],[[current_pred]],axis=1)"
   ]
  },
  {
   "cell_type": "code",
   "execution_count": 38,
   "id": "greatest-louisville",
   "metadata": {},
   "outputs": [],
   "source": [
    "true_predictions = scaler.inverse_transform(test_predictions)"
   ]
  },
  {
   "cell_type": "code",
   "execution_count": 39,
   "id": "humanitarian-voluntary",
   "metadata": {},
   "outputs": [],
   "source": [
    "true_predictions=true_predictions.flatten()"
   ]
  },
  {
   "cell_type": "code",
   "execution_count": 48,
   "id": "sudden-electricity",
   "metadata": {},
   "outputs": [],
   "source": [
    "true_preds=pd.DataFrame(true_predictions,columns=['Forecast'])\n",
    "true_preds=true_preds.set_index(pd.date_range('2020-08-01',periods=12))"
   ]
  },
  {
   "cell_type": "code",
   "execution_count": 49,
   "id": "metallic-ranking",
   "metadata": {},
   "outputs": [
    {
     "data": {
      "text/html": [
       "<div>\n",
       "<style scoped>\n",
       "    .dataframe tbody tr th:only-of-type {\n",
       "        vertical-align: middle;\n",
       "    }\n",
       "\n",
       "    .dataframe tbody tr th {\n",
       "        vertical-align: top;\n",
       "    }\n",
       "\n",
       "    .dataframe thead th {\n",
       "        text-align: right;\n",
       "    }\n",
       "</style>\n",
       "<table border=\"1\" class=\"dataframe\">\n",
       "  <thead>\n",
       "    <tr style=\"text-align: right;\">\n",
       "      <th></th>\n",
       "      <th>Forecast</th>\n",
       "    </tr>\n",
       "  </thead>\n",
       "  <tbody>\n",
       "    <tr>\n",
       "      <th>2020-08-01</th>\n",
       "      <td>45.811880</td>\n",
       "    </tr>\n",
       "    <tr>\n",
       "      <th>2020-08-02</th>\n",
       "      <td>44.960129</td>\n",
       "    </tr>\n",
       "    <tr>\n",
       "      <th>2020-08-03</th>\n",
       "      <td>44.488062</td>\n",
       "    </tr>\n",
       "    <tr>\n",
       "      <th>2020-08-04</th>\n",
       "      <td>44.166873</td>\n",
       "    </tr>\n",
       "    <tr>\n",
       "      <th>2020-08-05</th>\n",
       "      <td>43.915087</td>\n",
       "    </tr>\n",
       "    <tr>\n",
       "      <th>2020-08-06</th>\n",
       "      <td>43.695989</td>\n",
       "    </tr>\n",
       "    <tr>\n",
       "      <th>2020-08-07</th>\n",
       "      <td>43.494855</td>\n",
       "    </tr>\n",
       "    <tr>\n",
       "      <th>2020-08-08</th>\n",
       "      <td>43.305747</td>\n",
       "    </tr>\n",
       "    <tr>\n",
       "      <th>2020-08-09</th>\n",
       "      <td>43.126006</td>\n",
       "    </tr>\n",
       "    <tr>\n",
       "      <th>2020-08-10</th>\n",
       "      <td>42.954405</td>\n",
       "    </tr>\n",
       "    <tr>\n",
       "      <th>2020-08-11</th>\n",
       "      <td>42.790277</td>\n",
       "    </tr>\n",
       "    <tr>\n",
       "      <th>2020-08-12</th>\n",
       "      <td>42.633149</td>\n",
       "    </tr>\n",
       "  </tbody>\n",
       "</table>\n",
       "</div>"
      ],
      "text/plain": [
       "             Forecast\n",
       "2020-08-01  45.811880\n",
       "2020-08-02  44.960129\n",
       "2020-08-03  44.488062\n",
       "2020-08-04  44.166873\n",
       "2020-08-05  43.915087\n",
       "2020-08-06  43.695989\n",
       "2020-08-07  43.494855\n",
       "2020-08-08  43.305747\n",
       "2020-08-09  43.126006\n",
       "2020-08-10  42.954405\n",
       "2020-08-11  42.790277\n",
       "2020-08-12  42.633149"
      ]
     },
     "execution_count": 49,
     "metadata": {},
     "output_type": "execute_result"
    }
   ],
   "source": [
    "true_preds"
   ]
  },
  {
   "cell_type": "code",
   "execution_count": 50,
   "id": "realistic-temple",
   "metadata": {},
   "outputs": [
    {
     "data": {
      "text/plain": [
       "[<matplotlib.lines.Line2D at 0x1fba201b208>]"
      ]
     },
     "execution_count": 50,
     "metadata": {},
     "output_type": "execute_result"
    },
    {
     "data": {
      "image/png": "[encoded data removed]",
      "text/plain": [
       "<Figure size 1440x576 with 1 Axes>"
      ]
     },
     "metadata": {
      "needs_background": "light"
     },
     "output_type": "display_data"
    }
   ],
   "source": [
    "\n",
    "plt.figure(figsize=(20,8))\n",
    "plt.grid(True)\n",
    "plt.plot( true_preds['Forecast'])\n",
    "plt.plot( df['tempC'])"
   ]
  },
  {
   "cell_type": "code",
   "execution_count": null,
   "id": "indian-bench",
   "metadata": {},
   "outputs": [],
   "source": []
  }
 ],
 "metadata": {
  "kernelspec": {
   "display_name": "Python 3",
   "language": "python",
   "name": "python3"
  },
  "language_info": {
   "codemirror_mode": {
    "name": "ipython",
    "version": 3
   },
   "file_extension": ".py",
   "mimetype": "text/x-python",
   "name": "python",
   "nbconvert_exporter": "python",
   "pygments_lexer": "ipython3",
   "version": "3.6.4"
  }
 },
 "nbformat": 4,
 "nbformat_minor": 5
}

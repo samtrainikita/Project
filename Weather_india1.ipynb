{
 "cells": [
  {
   "cell_type": "code",
   "execution_count": 142,
   "id": "driving-simon",
   "metadata": {},
   "outputs": [],
   "source": [
    "  \n",
    "import pandas as pd\n",
    "import numpy as np\n",
    "from sklearn import svm\n",
    "from sklearn.linear_model import LinearRegression\n",
    "from sklearn.model_selection import train_test_split, cross_val_score\n",
    "from sklearn.metrics import confusion_matrix, accuracy_score, classification_report\n",
    "from sklearn.model_selection import cross_val_score, train_test_split\n",
    "from sklearn.metrics import accuracy_score, mean_squared_error, r2_score"
   ]
  },
  {
   "cell_type": "code",
   "execution_count": 143,
   "id": "early-fever",
   "metadata": {},
   "outputs": [
    {
     "name": "stdout",
     "output_type": "stream",
     "text": [
      "Total number of rows in dataset: 2009\n",
      "\n",
      "    date_time  maxtempC  mintempC  totalSnow_cm  sunHour  uvIndex  \\\n",
      "0  2015-01-01        24        11           0.0      8.7        5   \n",
      "1  2015-01-02        18        11           0.0      5.5        3   \n",
      "2  2015-01-03        19        13           0.0      8.7        5   \n",
      "3  2015-01-04        23        13           0.0      8.7        5   \n",
      "4  2015-01-05        21        10           0.0      8.7        5   \n",
      "\n",
      "   moon_illumination  moonrise   moonset   sunrise  ... WindGustKmph  \\\n",
      "0                 72  02:39 PM  03:24 AM  07:14 AM  ...           10   \n",
      "1                 80  03:27 PM  04:21 AM  07:14 AM  ...           15   \n",
      "2                 87  04:16 PM  05:16 AM  07:15 AM  ...            8   \n",
      "3                 94  05:08 PM  06:08 AM  07:15 AM  ...           18   \n",
      "4                100  06:01 PM  06:57 AM  07:15 AM  ...           23   \n",
      "\n",
      "   cloudcover  humidity  precipMM  pressure  tempC  visibility  winddirDegree  \\\n",
      "0          14        37       0.0      1017     24          10             63   \n",
      "1          60        62       1.7      1019     18           8             96   \n",
      "2          38        82       0.0      1018     19          10            113   \n",
      "3           1        60       0.0      1019     23          10            322   \n",
      "4           0        48       0.0      1016     21          10            296   \n",
      "\n",
      "   windspeedKmph  location  \n",
      "0              6     India  \n",
      "1             10     India  \n",
      "2              5     India  \n",
      "3             12     India  \n",
      "4             16     India  \n",
      "\n",
      "[5 rows x 25 columns]\n"
     ]
    }
   ],
   "source": [
    "\n",
    "dataset = pd.read_csv(\"E:\\TE_Project\\datacsv\\India.csv\")\n",
    "print (\"Total number of rows in dataset: {}\\n\".format(len(dataset)))\n",
    "print(dataset.head())\n"
   ]
  },
  {
   "cell_type": "code",
   "execution_count": 144,
   "id": "documented-rider",
   "metadata": {},
   "outputs": [],
   "source": [
    "features =[ 'date_time','maxtempC', 'mintempC', 'sunHour', 'uvIndex', 'DewPointC',\n",
    "       'FeelsLikeC', 'HeatIndexC', 'cloudcover', 'humidity', 'pressure',\n",
    "       'visibility', 'windspeedKmph']\n",
    "target = 'tempC'"
   ]
  },
  {
   "cell_type": "code",
   "execution_count": 145,
   "id": "blocked-aberdeen",
   "metadata": {},
   "outputs": [],
   "source": [
    "dataset['date_time'] = pd.to_datetime(dataset['date_time'], format='%Y-%m-%d')"
   ]
  },
  {
   "cell_type": "code",
   "execution_count": 146,
   "id": "amino-reliance",
   "metadata": {},
   "outputs": [
    {
     "name": "stdout",
     "output_type": "stream",
     "text": [
      "      date_time  maxtempC  mintempC  totalSnow_cm  sunHour  uvIndex  \\\n",
      "0    2015-01-01        24        11           0.0      8.7        5   \n",
      "1    2015-01-02        18        11           0.0      5.5        3   \n",
      "2    2015-01-03        19        13           0.0      8.7        5   \n",
      "3    2015-01-04        23        13           0.0      8.7        5   \n",
      "4    2015-01-05        21        10           0.0      8.7        5   \n",
      "...         ...       ...       ...           ...      ...      ...   \n",
      "2004 2020-06-27        43        33           0.0     14.0        8   \n",
      "2005 2020-06-28        45        34           0.0     12.2        9   \n",
      "2006 2020-06-29        43        38           0.0     13.3        9   \n",
      "2007 2020-06-30        46        30           0.0     14.0       10   \n",
      "2008 2020-07-01        47        36           0.0     14.0       10   \n",
      "\n",
      "      moon_illumination  moonrise     moonset   sunrise  ... WindGustKmph  \\\n",
      "0                    72  02:39 PM    03:24 AM  07:14 AM  ...           10   \n",
      "1                    80  03:27 PM    04:21 AM  07:14 AM  ...           15   \n",
      "2                    87  04:16 PM    05:16 AM  07:15 AM  ...            8   \n",
      "3                    94  05:08 PM    06:08 AM  07:15 AM  ...           18   \n",
      "4                   100  06:01 PM    06:57 AM  07:15 AM  ...           23   \n",
      "...                 ...       ...         ...       ...  ...          ...   \n",
      "2004                 44  11:18 AM  No moonset  05:26 AM  ...           19   \n",
      "2005                 52  12:20 PM    12:11 AM  05:26 AM  ...           19   \n",
      "2006                 59  01:24 PM    12:48 AM  05:27 AM  ...           15   \n",
      "2007                 67  02:28 PM    01:25 AM  05:27 AM  ...            9   \n",
      "2008                 72  03:33 PM    02:03 AM  05:27 AM  ...           14   \n",
      "\n",
      "      cloudcover  humidity  precipMM  pressure  tempC  visibility  \\\n",
      "0             14        37       0.0      1017     24          10   \n",
      "1             60        62       1.7      1019     18           8   \n",
      "2             38        82       0.0      1018     19          10   \n",
      "3              1        60       0.0      1019     23          10   \n",
      "4              0        48       0.0      1016     21          10   \n",
      "...          ...       ...       ...       ...    ...         ...   \n",
      "2004          44        31       0.3       994     43          10   \n",
      "2005          30        32       0.5       994     45          10   \n",
      "2006          34        31       2.0       995     43          10   \n",
      "2007           8        28       0.0       996     46          10   \n",
      "2008           6        28       0.0       995     47          10   \n",
      "\n",
      "      winddirDegree  windspeedKmph  location  \n",
      "0                63              6     India  \n",
      "1                96             10     India  \n",
      "2               113              5     India  \n",
      "3               322             12     India  \n",
      "4               296             16     India  \n",
      "...             ...            ...       ...  \n",
      "2004            235             16     India  \n",
      "2005            244             16     India  \n",
      "2006            245             13     India  \n",
      "2007            154              8     India  \n",
      "2008            106             12     India  \n",
      "\n",
      "[2009 rows x 25 columns]\n",
      "date_time            datetime64[ns]\n",
      "maxtempC                      int64\n",
      "mintempC                      int64\n",
      "totalSnow_cm                float64\n",
      "sunHour                     float64\n",
      "uvIndex                       int64\n",
      "moon_illumination             int64\n",
      "moonrise                     object\n",
      "moonset                      object\n",
      "sunrise                      object\n",
      "sunset                       object\n",
      "DewPointC                     int64\n",
      "FeelsLikeC                    int64\n",
      "HeatIndexC                    int64\n",
      "WindChillC                    int64\n",
      "WindGustKmph                  int64\n",
      "cloudcover                    int64\n",
      "humidity                      int64\n",
      "precipMM                    float64\n",
      "pressure                      int64\n",
      "tempC                         int64\n",
      "visibility                    int64\n",
      "winddirDegree                 int64\n",
      "windspeedKmph                 int64\n",
      "location                     object\n",
      "dtype: object\n"
     ]
    }
   ],
   "source": [
    "print (dataset)\n",
    "print (dataset.dtypes)"
   ]
  },
  {
   "cell_type": "code",
   "execution_count": 147,
   "id": "irish-embassy",
   "metadata": {},
   "outputs": [],
   "source": [
    "dataset[\"date_time\"]= dataset[\"date_time\"].dt.strftime(\"%Y%m%d\")"
   ]
  },
  {
   "cell_type": "code",
   "execution_count": 148,
   "id": "sophisticated-skiing",
   "metadata": {},
   "outputs": [
    {
     "name": "stdout",
     "output_type": "stream",
     "text": [
      "     date_time  maxtempC  mintempC  totalSnow_cm  sunHour  uvIndex  \\\n",
      "0     20150101        24        11           0.0      8.7        5   \n",
      "1     20150102        18        11           0.0      5.5        3   \n",
      "2     20150103        19        13           0.0      8.7        5   \n",
      "3     20150104        23        13           0.0      8.7        5   \n",
      "4     20150105        21        10           0.0      8.7        5   \n",
      "...        ...       ...       ...           ...      ...      ...   \n",
      "2004  20200627        43        33           0.0     14.0        8   \n",
      "2005  20200628        45        34           0.0     12.2        9   \n",
      "2006  20200629        43        38           0.0     13.3        9   \n",
      "2007  20200630        46        30           0.0     14.0       10   \n",
      "2008  20200701        47        36           0.0     14.0       10   \n",
      "\n",
      "      moon_illumination  moonrise     moonset   sunrise  ... WindGustKmph  \\\n",
      "0                    72  02:39 PM    03:24 AM  07:14 AM  ...           10   \n",
      "1                    80  03:27 PM    04:21 AM  07:14 AM  ...           15   \n",
      "2                    87  04:16 PM    05:16 AM  07:15 AM  ...            8   \n",
      "3                    94  05:08 PM    06:08 AM  07:15 AM  ...           18   \n",
      "4                   100  06:01 PM    06:57 AM  07:15 AM  ...           23   \n",
      "...                 ...       ...         ...       ...  ...          ...   \n",
      "2004                 44  11:18 AM  No moonset  05:26 AM  ...           19   \n",
      "2005                 52  12:20 PM    12:11 AM  05:26 AM  ...           19   \n",
      "2006                 59  01:24 PM    12:48 AM  05:27 AM  ...           15   \n",
      "2007                 67  02:28 PM    01:25 AM  05:27 AM  ...            9   \n",
      "2008                 72  03:33 PM    02:03 AM  05:27 AM  ...           14   \n",
      "\n",
      "      cloudcover  humidity  precipMM  pressure  tempC  visibility  \\\n",
      "0             14        37       0.0      1017     24          10   \n",
      "1             60        62       1.7      1019     18           8   \n",
      "2             38        82       0.0      1018     19          10   \n",
      "3              1        60       0.0      1019     23          10   \n",
      "4              0        48       0.0      1016     21          10   \n",
      "...          ...       ...       ...       ...    ...         ...   \n",
      "2004          44        31       0.3       994     43          10   \n",
      "2005          30        32       0.5       994     45          10   \n",
      "2006          34        31       2.0       995     43          10   \n",
      "2007           8        28       0.0       996     46          10   \n",
      "2008           6        28       0.0       995     47          10   \n",
      "\n",
      "      winddirDegree  windspeedKmph  location  \n",
      "0                63              6     India  \n",
      "1                96             10     India  \n",
      "2               113              5     India  \n",
      "3               322             12     India  \n",
      "4               296             16     India  \n",
      "...             ...            ...       ...  \n",
      "2004            235             16     India  \n",
      "2005            244             16     India  \n",
      "2006            245             13     India  \n",
      "2007            154              8     India  \n",
      "2008            106             12     India  \n",
      "\n",
      "[2009 rows x 25 columns]\n",
      "date_time             object\n",
      "maxtempC               int64\n",
      "mintempC               int64\n",
      "totalSnow_cm         float64\n",
      "sunHour              float64\n",
      "uvIndex                int64\n",
      "moon_illumination      int64\n",
      "moonrise              object\n",
      "moonset               object\n",
      "sunrise               object\n",
      "sunset                object\n",
      "DewPointC              int64\n",
      "FeelsLikeC             int64\n",
      "HeatIndexC             int64\n",
      "WindChillC             int64\n",
      "WindGustKmph           int64\n",
      "cloudcover             int64\n",
      "humidity               int64\n",
      "precipMM             float64\n",
      "pressure               int64\n",
      "tempC                  int64\n",
      "visibility             int64\n",
      "winddirDegree          int64\n",
      "windspeedKmph          int64\n",
      "location              object\n",
      "dtype: object\n"
     ]
    }
   ],
   "source": [
    "print (dataset)\n",
    "print (dataset.dtypes)"
   ]
  },
  {
   "cell_type": "code",
   "execution_count": 149,
   "id": "interesting-headquarters",
   "metadata": {},
   "outputs": [],
   "source": [
    "x_train, x_test, y_train, y_test = train_test_split(dataset[features], dataset[target],\n",
    "                                                    train_size=0.7, test_size=0.3, shuffle=False)"
   ]
  },
  {
   "cell_type": "code",
   "execution_count": 168,
   "id": "ahead-session",
   "metadata": {},
   "outputs": [
    {
     "name": "stdout",
     "output_type": "stream",
     "text": [
      "X_train: 1406, x_test: 603\n",
      "y_train: 1406, y_test: 603\n"
     ]
    }
   ],
   "source": [
    "print(\"X_train: {}, x_test: {}\".format(len(x_train), len(x_test)))\n",
    "print(\"y_train: {}, y_test: {}\".format(len(y_train), len(y_test)))"
   ]
  },
  {
   "cell_type": "code",
   "execution_count": 169,
   "id": "bound-consortium",
   "metadata": {},
   "outputs": [
    {
     "data": {
      "text/html": [
       "<div>\n",
       "<style scoped>\n",
       "    .dataframe tbody tr th:only-of-type {\n",
       "        vertical-align: middle;\n",
       "    }\n",
       "\n",
       "    .dataframe tbody tr th {\n",
       "        vertical-align: top;\n",
       "    }\n",
       "\n",
       "    .dataframe thead th {\n",
       "        text-align: right;\n",
       "    }\n",
       "</style>\n",
       "<table border=\"1\" class=\"dataframe\">\n",
       "  <thead>\n",
       "    <tr style=\"text-align: right;\">\n",
       "      <th></th>\n",
       "      <th>date_time</th>\n",
       "      <th>maxtempC</th>\n",
       "      <th>mintempC</th>\n",
       "      <th>sunHour</th>\n",
       "      <th>uvIndex</th>\n",
       "      <th>DewPointC</th>\n",
       "      <th>FeelsLikeC</th>\n",
       "      <th>HeatIndexC</th>\n",
       "      <th>cloudcover</th>\n",
       "      <th>humidity</th>\n",
       "      <th>pressure</th>\n",
       "      <th>visibility</th>\n",
       "      <th>windspeedKmph</th>\n",
       "    </tr>\n",
       "  </thead>\n",
       "  <tbody>\n",
       "    <tr>\n",
       "      <th>0</th>\n",
       "      <td>20150101</td>\n",
       "      <td>24</td>\n",
       "      <td>11</td>\n",
       "      <td>8.7</td>\n",
       "      <td>5</td>\n",
       "      <td>1</td>\n",
       "      <td>16</td>\n",
       "      <td>16</td>\n",
       "      <td>14</td>\n",
       "      <td>37</td>\n",
       "      <td>1017</td>\n",
       "      <td>10</td>\n",
       "      <td>6</td>\n",
       "    </tr>\n",
       "    <tr>\n",
       "      <th>1</th>\n",
       "      <td>20150102</td>\n",
       "      <td>18</td>\n",
       "      <td>11</td>\n",
       "      <td>5.5</td>\n",
       "      <td>3</td>\n",
       "      <td>6</td>\n",
       "      <td>13</td>\n",
       "      <td>14</td>\n",
       "      <td>60</td>\n",
       "      <td>62</td>\n",
       "      <td>1019</td>\n",
       "      <td>8</td>\n",
       "      <td>10</td>\n",
       "    </tr>\n",
       "    <tr>\n",
       "      <th>2</th>\n",
       "      <td>20150103</td>\n",
       "      <td>19</td>\n",
       "      <td>13</td>\n",
       "      <td>8.7</td>\n",
       "      <td>5</td>\n",
       "      <td>12</td>\n",
       "      <td>15</td>\n",
       "      <td>15</td>\n",
       "      <td>38</td>\n",
       "      <td>82</td>\n",
       "      <td>1018</td>\n",
       "      <td>10</td>\n",
       "      <td>5</td>\n",
       "    </tr>\n",
       "    <tr>\n",
       "      <th>3</th>\n",
       "      <td>20150104</td>\n",
       "      <td>23</td>\n",
       "      <td>13</td>\n",
       "      <td>8.7</td>\n",
       "      <td>5</td>\n",
       "      <td>8</td>\n",
       "      <td>16</td>\n",
       "      <td>17</td>\n",
       "      <td>1</td>\n",
       "      <td>60</td>\n",
       "      <td>1019</td>\n",
       "      <td>10</td>\n",
       "      <td>12</td>\n",
       "    </tr>\n",
       "    <tr>\n",
       "      <th>4</th>\n",
       "      <td>20150105</td>\n",
       "      <td>21</td>\n",
       "      <td>10</td>\n",
       "      <td>8.7</td>\n",
       "      <td>5</td>\n",
       "      <td>4</td>\n",
       "      <td>14</td>\n",
       "      <td>15</td>\n",
       "      <td>0</td>\n",
       "      <td>48</td>\n",
       "      <td>1016</td>\n",
       "      <td>10</td>\n",
       "      <td>16</td>\n",
       "    </tr>\n",
       "  </tbody>\n",
       "</table>\n",
       "</div>"
      ],
      "text/plain": [
       "  date_time  maxtempC  mintempC  sunHour  uvIndex  DewPointC  FeelsLikeC  \\\n",
       "0  20150101        24        11      8.7        5          1          16   \n",
       "1  20150102        18        11      5.5        3          6          13   \n",
       "2  20150103        19        13      8.7        5         12          15   \n",
       "3  20150104        23        13      8.7        5          8          16   \n",
       "4  20150105        21        10      8.7        5          4          14   \n",
       "\n",
       "   HeatIndexC  cloudcover  humidity  pressure  visibility  windspeedKmph  \n",
       "0          16          14        37      1017          10              6  \n",
       "1          14          60        62      1019           8             10  \n",
       "2          15          38        82      1018          10              5  \n",
       "3          17           1        60      1019          10             12  \n",
       "4          15           0        48      1016          10             16  "
      ]
     },
     "execution_count": 169,
     "metadata": {},
     "output_type": "execute_result"
    }
   ],
   "source": [
    "x_train.head()"
   ]
  },
  {
   "cell_type": "code",
   "execution_count": 170,
   "id": "violent-teens",
   "metadata": {},
   "outputs": [
    {
     "data": {
      "text/plain": [
       "LinearRegression()"
      ]
     },
     "execution_count": 170,
     "metadata": {},
     "output_type": "execute_result"
    }
   ],
   "source": [
    "model=LinearRegression()\n",
    "model.fit(x_train,y_train)"
   ]
  },
  {
   "cell_type": "code",
   "execution_count": 171,
   "id": "pacific-pocket",
   "metadata": {},
   "outputs": [],
   "source": [
    "prediction=model.predict(x_test)"
   ]
  },
  {
   "cell_type": "code",
   "execution_count": 172,
   "id": "center-timer",
   "metadata": {},
   "outputs": [
    {
     "data": {
      "text/plain": [
       "<bound method NDFrame.head of       Actual  Predicted\n",
       "1406      33       33.0\n",
       "1407      33       33.0\n",
       "1408      34       34.0\n",
       "1409      35       35.0\n",
       "1410      32       32.0\n",
       "...      ...        ...\n",
       "2004      43       43.0\n",
       "2005      45       45.0\n",
       "2006      43       43.0\n",
       "2007      46       46.0\n",
       "2008      47       47.0\n",
       "\n",
       "[603 rows x 2 columns]>"
      ]
     },
     "execution_count": 172,
     "metadata": {},
     "output_type": "execute_result"
    }
   ],
   "source": [
    "y_pred = model.predict(x_test)\n",
    "df = pd.DataFrame({'Actual': y_test, 'Predicted': y_pred})\n",
    "\n",
    "df.head"
   ]
  },
  {
   "cell_type": "code",
   "execution_count": 175,
   "id": "objective-magazine",
   "metadata": {},
   "outputs": [
    {
     "data": {
      "text/plain": [
       "Text(0, 0.5, 'Predicted Values')"
      ]
     },
     "execution_count": 175,
     "metadata": {},
     "output_type": "execute_result"
    },
    {
     "data": {
      "image/png": "[encoded data removed]",
      "text/plain": [
       "<Figure size 720x720 with 1 Axes>"
      ]
     },
     "metadata": {},
     "output_type": "display_data"
    }
   ],
   "source": [
    "import matplotlib.pyplot as plt \n",
    "plt.style.use('dark_background')\n",
    "plt.figure(figsize=(10, 10))\n",
    "plt.scatter(y_test, y_pred, c = 'red')\n",
    "plt.xlabel('Actual values')\n",
    "plt.ylabel('Predicted Values')"
   ]
  },
  {
   "cell_type": "code",
   "execution_count": null,
   "id": "oriented-scoop",
   "metadata": {},
   "outputs": [],
   "source": []
  }
 ],
 "metadata": {
  "kernelspec": {
   "display_name": "Python 3",
   "language": "python",
   "name": "python3"
  },
  "language_info": {
   "codemirror_mode": {
    "name": "ipython",
    "version": 3
   },
   "file_extension": ".py",
   "mimetype": "text/x-python",
   "name": "python",
   "nbconvert_exporter": "python",
   "pygments_lexer": "ipython3",
   "version": "3.6.4"
  }
 },
 "nbformat": 4,
 "nbformat_minor": 5
}
